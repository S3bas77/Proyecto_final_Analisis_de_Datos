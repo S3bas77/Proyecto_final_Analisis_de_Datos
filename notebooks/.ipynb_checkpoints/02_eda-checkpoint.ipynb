{
  "cells": [
    {
      "cell_type": "markdown",
      "metadata": {},
      "source": [
        "# 02 - Análisis Exploratorio de Datos (EDA)\n",
        "## Proyecto Final: Análisis de Datos\n",
        "### Objetivo: Explorar y visualizar los datos para identificar patrones y relaciones"
      ]
    },
    {
      "cell_type": "code",
      "execution_count": null,
      "metadata": {},
      "outputs": [],
      "source": [
        "import pandas as pd\n",
        "import numpy as np\n",
        "import matplotlib.pyplot as plt\n",
        "import seaborn as sns\n",
        "\n",
        "# Configuración de visualización\n",
        "plt.style.use('seaborn-v0_8')\n",
        "sns.set_palette(\"husl\")\n",
        "plt.rcParams['figure.figsize'] = (12, 6)\n",
        "\n",
        "print('Librerías y configuración cargadas correctamente')"
      ]
    },
    {
      "cell_type": "code",
      "execution_count": null,
      "metadata": {},
      "outputs": [],
      "source": [
        "# Cargar datasets curados\n",
        "clients = pd.read_csv('../data/clients_curated.csv')\n",
        "projects = pd.read_csv('../data/projects_curated.csv')\n",
        "\n",
        "# Convertir fechas nuevamente\n",
        "date_cols = ['start_date', 'planned_end_date', 'actual_end_date']\n",
        "for col in date_cols:\n",
        "    projects[col] = pd.to_datetime(projects[col])\n",
        "\n",
        "print('Datos cargados y preparados para análisis')"
      ]
    },
    {
      "cell_type": "markdown",
      "metadata": {},
      "source": [
        "### 1. Análisis Univariado"
      ]
    },
    {
      "cell_type": "code",
      "execution_count": null,
      "metadata": {},
      "outputs": [],
      "source": [
        "fig, axes = plt.subplots(2, 3, figsize=(18, 10))\n",
        "\n",
        "# Distribución de satisfaction_score\n",
        "sns.histplot(data=clients, x='satisfaction_score', bins=5, ax=axes[0,0])\n",
        "axes[0,0].set_title('Distribución de Satisfacción')\n",
        "\n",
        "# Distribución de tamaño de empresa\n",
        "clients['size'].value_counts().plot(kind='bar', ax=axes[0,1])\n",
        "axes[0,1].set_title('Distribución por Tamaño de Empresa')\n",
        "\n",
        "# Distribución de industria\n",
        "clients['industry'].value_counts().plot(kind='bar', ax=axes[0,2])\n",
        "axes[0,2].set_title('Distribución por Industria')\n",
        "axes[0,2].tick_params(axis='x', rotation=45)\n",
        "\n",
        "# Distribución de presupuesto\n",
        "sns.histplot(data=projects, x='budget_usd', ax=axes[1,0])\n",
        "axes[1,0].set_title('Distribución de Presupuesto')\n",
        "\n",
        "# Distribución de estado de proyectos\n",
        "projects['status'].value_counts().plot(kind='bar', ax=axes[1,1])\n",
        "axes[1,1].set_title('Estado de Proyectos')\n",
        "\n",
        "# Distribución de complejidad\n",
        "projects['complexity'].value_counts().plot(kind='bar', ax=axes[1,2])\n",
        "axes[1,2].set_title('Complejidad de Proyectos')\n",
        "\n",
        "plt.tight_layout()\n",
        "plt.show()"
      ]
    }
  ],
  "metadata": {
    "kernelspec": {
      "display_name": "Python 3",
      "language": "python",
      "name": "python3"
    },
    "language_info": {
      "name": "python",
      "version": "3.8.0"
    }
  },
  "nbformat": 4,          
  "nbformat_minor": 2     
}