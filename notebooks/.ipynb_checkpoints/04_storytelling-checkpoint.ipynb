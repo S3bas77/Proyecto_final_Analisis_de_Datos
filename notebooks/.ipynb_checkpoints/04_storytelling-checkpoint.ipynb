{
  "cells": [
    {
      "cell_type": "markdown",
      "id": "9e1e245e",
      "metadata": {},
      "source": [
        "# 04 - Storytelling y Presentación de Resultados\n",
        "## Proyecto Final: Análisis de Datos\n",
        "### Objetivo: Sintetizar hallazgos y crear visualizaciones para presentación"
      ]
    },
    {
      "cell_type": "code",
      "execution_count": null,
      "id": "bf75f0dc",
      "metadata": {},
      "outputs": [],
      "source": [
        "import pandas as pd\n",
        "import numpy as np\n",
        "import matplotlib.pyplot as plt\n",
        "import seaborn as sns\n",
        "\n",
        "# Configuración para presentación\n",
        "plt.style.use('seaborn-v0_8-whitegrid')\n",
        "sns.set_palette(\"Set2\")\n",
        "plt.rcParams['figure.figsize'] = (14, 8)\n",
        "plt.rcParams['font.size'] = 12\n",
        "\n",
        "print('Librerías cargadas para storytelling')"
      ]
    },
    {
      "cell_type": "code",
      "execution_count": null,
      "id": "25515e30",
      "metadata": {},
      "outputs": [],
      "source": [
        "# Cargar todos los datos necesarios\n",
        "clients = pd.read_csv('../data/clients_curated.csv')\n",
        "projects = pd.read_csv('../data/projects_curated.csv')\n",
        "\n",
        "# Convertir fechas\n",
        "date_cols = ['start_date', 'planned_end_date', 'actual_end_date']\n",
        "for col in date_cols:\n",
        "    projects[col] = pd.to_datetime(projects[col])\n",
        "\n",
        "print('Datos cargados para análisis final')"
      ]
    },
    {
      "cell_type": "markdown",
      "id": "cf627dcf",
      "metadata": {},
      "source": [
        "### 1. Resumen Ejecutivo de Hallazgos"
      ]
    },
    {
      "cell_type": "code",
      "execution_count": null,
      "id": "7612fc3f",
      "metadata": {},
      "outputs": [],
      "source": [
        "print('=== RESUMEN EJECUTIVO ===')\n",
        "print(f'• Total de clientes analizados: {len(clients)}')\n",
        "print(f'• Total de proyectos completados: {len(projects[projects[\"status\"] == \"completed\"])}')\n",
        "print(f'• Tasa promedio de satisfacción: {clients[\"satisfaction_score\"].mean():.2f}/5')\n",
        "print(f'• Presupuesto promedio por proyecto: ${projects[\"budget_usd\"].mean():,.2f}')\n",
        "print(f'• Tasa de renovación de contratos: {clients[\"renewed_contract\"].mean()*100:.1f}%')"
      ]
    }
  ],
  "metadata": {
    "kernelspec": {
      "display_name": "Python 3",
      "language": "python",
      "name": "python3"
    },
    "language_info": {
      "name": "python",
      "version": "3.8.0"
    }
  },
  "nbformat": 4,
  "nbformat_minor": 5
}
