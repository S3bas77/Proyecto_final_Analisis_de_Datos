{
  "cells": [
    {
      "cell_type": "markdown",
      "metadata": {},
      "source": [
        "# 03 - Modelado y Análisis Predictivo\n",
        "## Proyecto Final: Análisis de Datos\n",
        "### Objetivo: Desarrollar modelos predictivos para renovación de contratos y retrasos en proyectos"
      ]
    },
    {
      "cell_type": "code",
      "execution_count": null,
      "metadata": {},
      "outputs": [],
      "source": [
        "import pandas as pd\n",
        "import numpy as np\n",
        "import matplotlib.pyplot as plt\n",
        "import seaborn as sns\n",
        "from sklearn.model_selection import train_test_split\n",
        "from sklearn.preprocessing import StandardScaler, OneHotEncoder\n",
        "from sklearn.compose import ColumnTransformer\n",
        "from sklearn.pipeline import Pipeline\n",
        "from sklearn.ensemble import RandomForestClassifier\n",
        "from sklearn.metrics import classification_report, roc_auc_score\n",
        "\n",
        "print('Librerías cargadas correctamente')"
      ]
    },
    {
      "cell_type": "code",
      "execution_count": null,
      "metadata": {},
      "outputs": [],
      "source": [
        "# Cargar datos\n",
        "clients = pd.read_csv('../data/clients_curated.csv')\n",
        "projects = pd.read_csv('../data/projects_curated.csv')\n",
        "\n",
        "print('=== DATOS CARGADOS ===')\n",
        "print(f'Clientes: {clients.shape}')\n",
        "print(f'Proyectos: {projects.shape}')"
      ]
    },
    {
      "cell_type": "markdown",
      "metadata": {},
      "source": [
        "### 1. Modelo: Predicción de Renovación de Contratos"
      ]
    },
    {
      "cell_type": "code",
      "execution_count": null,
      "metadata": {},
      "outputs": [],
      "source": [
        "# Preparar características y target\n",
        "X_contract = clients[['industry', 'size', 'region', 'tickets_opened_last_year', \n",
        "                     'avg_response_time_hours', 'satisfaction_score']]\n",
        "y_contract = clients['renewed_contract']\n",
        "\n",
        "print('=== MODELO 1: RENOVACIÓN DE CONTRATOS ===')\n",
        "print(f'Características: {X_contract.shape}')\n",
        "print(f'Target distribution: {y_contract.value_counts().to_dict()}')"
      ]
    },
    {
      "cell_type": "code",
      "execution_count": null,
      "metadata": {},
      "outputs": [],
      "source": [
        "# Preprocesamiento\n",
        "numeric_features = ['tickets_opened_last_year', 'avg_response_time_hours', 'satisfaction_score']\n",
        "categorical_features = ['industry', 'size', 'region']\n",
        "\n",
        "preprocessor = ColumnTransformer(\n",
        "    transformers=[\n",
        "        ('num', StandardScaler(), numeric_features),\n",
        "        ('cat', OneHotEncoder(handle_unknown='ignore', drop='first'), categorical_features)\n",
        "    ])\n",
        "\n",
        "# Crear pipeline\n",
        "model_contract = Pipeline([\n",
        "    ('preprocessor', preprocessor),\n",
        "    ('classifier', RandomForestClassifier(n_estimators=100, random_state=42))\n",
        "])\n",
        "\n",
        "# Dividir datos\n",
        "X_train, X_test, y_train, y_test = train_test_split(X_contract, y_contract, \n",
        "                                                    test_size=0.2, random_state=42, \n",
        "                                                    stratify=y_contract)\n",
        "\n",
        "print('Datos divididos para entrenamiento y prueba')"
      ]
    }
  ],
  "metadata": {
    "kernelspec": {
      "display_name": "Python 3",
      "language": "python",
      "name": "python3"
    },
    "language_info": {
      "name": "python",
      "version": "3.8.0"
    }
  },
  "nbformat": 4,          
  "nbformat_minor": 2     
}