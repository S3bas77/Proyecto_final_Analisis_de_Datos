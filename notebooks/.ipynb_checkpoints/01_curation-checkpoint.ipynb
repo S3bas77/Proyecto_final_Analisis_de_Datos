{
  "cells": [
    {
      "cell_type": "markdown",
      "metadata": {},
      "source": [
        "# 01 - Curación y Preparación de Datos\n",
        "## Proyecto Final: Análisis de Datos\n",
        "### Objetivo: Cargar, revisar y limpiar los datasets iniciales"
      ]
    },
    {
      "cell_type": "code",
      "execution_count": null,
      "metadata": {},
      "outputs": [],
      "source": [
        "import pandas as pd\n",
        "import numpy as np\n",
        "import matplotlib.pyplot as plt\n",
        "import seaborn as sns\n",
        "\n",
        "print('Librerías cargadas correctamente')"
      ]
    },
    {
      "cell_type": "markdown",
      "metadata": {},
      "source": [
        "### 1. Carga de Datos"
      ]
    },
    {
      "cell_type": "code",
      "execution_count": null,
      "metadata": {},
      "outputs": [],
      "source": [
        "# Cargar datasets\n",
        "clients = pd.read_csv('../data/clients.csv')\n",
        "projects = pd.read_csv('../data/projects.csv')\n",
        "\n",
        "print('=== INFORMACIÓN DE DATASETS ===')\n",
        "print(f'Clientes: {clients.shape} - Filas: {clients.shape[0]}, Columnas: {clients.shape[1]}')\n",
        "print(f'Proyectos: {projects.shape} - Filas: {projects.shape[0]}, Columnas: {projects.shape[1]}')\n",
        "\n",
        "print('\\n=== PRIMERAS FILAS ===')\n",
        "print('\\nClientes:')\n",
        "display(clients.head())\n",
        "print('\\nProyectos:')\n",
        "display(projects.head())"
      ]
    },
    {
      "cell_type": "markdown",
      "metadata": {},
      "source": [
        "### 2. Revisión de Calidad de Datos"
      ]
    },
    {
      "cell_type": "code",
      "execution_count": null,
      "metadata": {},
      "outputs": [],
      "source": [
        "print('=== INFORMACIÓN DE TIPOS DE DATOS ===')\n",
        "print('\\nClientes:')\n",
        "clients.info()\n",
        "print('\\nProyectos:')\n",
        "projects.info()\n",
        "\n",
        "print('\\n=== VALORES NULOS ===')\n",
        "print('\\nClientes:')\n",
        "print(clients.isnull().sum())\n",
        "print('\\nProyectos:')\n",
        "print(projects.isnull().sum())"
      ]
    },
    {
      "cell_type": "markdown",
      "metadata": {},
      "source": [
        "### 3. Conversión de Tipos de Datos"
      ]
    },
    {
      "cell_type": "code",
      "execution_count": null,
      "metadata": {},
      "outputs": [],
      "source": [
        "# Convertir fechas en proyectos\n",
        "date_columns = ['start_date', 'planned_end_date', 'actual_end_date']\n",
        "for col in date_columns:\n",
        "    projects[col] = pd.to_datetime(projects[col])\n",
        "\n",
        "print('=== CONVERSIÓN DE FECHAS COMPLETADA ===')\n",
        "print('\\nTipos de datos en proyectos después de conversión:')\n",
        "print(projects[date_columns].dtypes)"
      ]
    },
    {
      "cell_type": "markdown",
      "metadata": {},
      "source": [
        "### 4. Validaciones de Consistencia"
      ]
    },
    {
      "cell_type": "code",
      "execution_count": null,
      "metadata": {},
      "outputs": [],
      "source": [
        "# Validar que las fechas sean consistentes\n",
        "projects['duration_planned'] = (projects['planned_end_date'] - projects['start_date']).dt.days\n",
        "projects['duration_actual'] = (projects['actual_end_date'] - projects['start_date']).dt.days\n",
        "\n",
        "# Identificar proyectos con fechas inconsistentes\n",
        "invalid_dates = projects[projects['duration_actual'] < 0]\n",
        "print(f'Proyectos con fechas inconsistentes: {len(invalid_dates)}')\n",
        "\n",
        "# Validar rangos de valores\n",
        "print('\\n=== VALIDACIÓN DE RANGOS ===')\n",
        "print(f'Satisfaction score range: {clients[\"satisfaction_score\"].min()} - {clients[\"satisfaction_score\"].max()}')\n",
        "print(f'Budget range: ${projects[\"budget_usd\"].min():,.2f} - ${projects[\"budget_usd\"].max():,.2f}')"
      ]
    },
    {
      "cell_type": "markdown",
      "metadata": {},
      "source": [
        "### 5. Guardar Datasets Curados"
      ]
    },
    {
      "cell_type": "code",
      "execution_count": null,
      "metadata": {},
      "outputs": [],
      "source": [
        "# Guardar datasets procesados\n",
        "clients.to_csv('../data/clients_curated.csv', index=False)\n",
        "projects.to_csv('../data/projects_curated.csv', index=False)\n",
        "\n",
        "print('✅ Datasets curados guardados correctamente:')\n",
        "print('- ../data/clients_curated.csv')\n",
        "print('- ../data/projects_curated.csv')"
      ]
    }
  ],
  "metadata": {
    "kernelspec": {
      "display_name": "Python 3",
      "language": "python",
      "name": "python3"
    },
    "language_info": {
      "name": "python",
      "version": "3.8.0"
    }
  },
  "nbformat": 4,          
  "nbformat_minor": 2     
}