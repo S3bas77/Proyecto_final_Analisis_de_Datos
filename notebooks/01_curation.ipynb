{
 "cells": [
  {
   "cell_type": "markdown",
   "metadata": {},
   "source": [
    "# 01 - Curación y Preparación de Datos\n",
    "## Proyecto Final: Análisis de Datos\n",
    "### Objetivo: Cargar, revisar y limpiar los datasets iniciales"
   ]
  },
  {
   "cell_type": "code",
   "execution_count": 1,
   "metadata": {},
   "outputs": [
    {
     "name": "stdout",
     "output_type": "stream",
     "text": [
      "Librerías cargadas correctamente\n"
     ]
    }
   ],
   "source": [
    "import pandas as pd\n",
    "import numpy as np\n",
    "import matplotlib.pyplot as plt\n",
    "import seaborn as sns\n",
    "\n",
    "print('Librerías cargadas correctamente')"
   ]
  },
  {
   "cell_type": "markdown",
   "metadata": {},
   "source": [
    "### 1. Carga de Datos"
   ]
  },
  {
   "cell_type": "code",
   "execution_count": 2,
   "metadata": {},
   "outputs": [
    {
     "name": "stdout",
     "output_type": "stream",
     "text": [
      "=== INFORMACIÓN DE DATASETS ===\n",
      "Clientes: (100, 9) - Filas: 100, Columnas: 9\n",
      "Proyectos: (200, 10) - Filas: 200, Columnas: 10\n",
      "\n",
      "=== PRIMERAS FILAS ===\n",
      "\n",
      "Clientes:\n"
     ]
    },
    {
     "data": {
      "text/html": [
       "<div>\n",
       "<style scoped>\n",
       "    .dataframe tbody tr th:only-of-type {\n",
       "        vertical-align: middle;\n",
       "    }\n",
       "\n",
       "    .dataframe tbody tr th {\n",
       "        vertical-align: top;\n",
       "    }\n",
       "\n",
       "    .dataframe thead th {\n",
       "        text-align: right;\n",
       "    }\n",
       "</style>\n",
       "<table border=\"1\" class=\"dataframe\">\n",
       "  <thead>\n",
       "    <tr style=\"text-align: right;\">\n",
       "      <th></th>\n",
       "      <th>client_id</th>\n",
       "      <th>industry</th>\n",
       "      <th>size</th>\n",
       "      <th>region</th>\n",
       "      <th>support_contract</th>\n",
       "      <th>tickets_opened_last_year</th>\n",
       "      <th>avg_response_time_hours</th>\n",
       "      <th>satisfaction_score</th>\n",
       "      <th>renewed_contract</th>\n",
       "    </tr>\n",
       "  </thead>\n",
       "  <tbody>\n",
       "    <tr>\n",
       "      <th>0</th>\n",
       "      <td>C1000</td>\n",
       "      <td>Finanzas</td>\n",
       "      <td>Pequeña</td>\n",
       "      <td>Oruro</td>\n",
       "      <td>0</td>\n",
       "      <td>21</td>\n",
       "      <td>33.5</td>\n",
       "      <td>5</td>\n",
       "      <td>0</td>\n",
       "    </tr>\n",
       "    <tr>\n",
       "      <th>1</th>\n",
       "      <td>C1001</td>\n",
       "      <td>Otros</td>\n",
       "      <td>Mediana</td>\n",
       "      <td>Santa Cruz</td>\n",
       "      <td>1</td>\n",
       "      <td>21</td>\n",
       "      <td>25.8</td>\n",
       "      <td>3</td>\n",
       "      <td>1</td>\n",
       "    </tr>\n",
       "    <tr>\n",
       "      <th>2</th>\n",
       "      <td>C1002</td>\n",
       "      <td>Educación</td>\n",
       "      <td>Pequeña</td>\n",
       "      <td>La Paz</td>\n",
       "      <td>1</td>\n",
       "      <td>23</td>\n",
       "      <td>24.6</td>\n",
       "      <td>2</td>\n",
       "      <td>1</td>\n",
       "    </tr>\n",
       "    <tr>\n",
       "      <th>3</th>\n",
       "      <td>C1003</td>\n",
       "      <td>Gobierno</td>\n",
       "      <td>Mediana</td>\n",
       "      <td>Oruro</td>\n",
       "      <td>1</td>\n",
       "      <td>16</td>\n",
       "      <td>17.0</td>\n",
       "      <td>1</td>\n",
       "      <td>1</td>\n",
       "    </tr>\n",
       "    <tr>\n",
       "      <th>4</th>\n",
       "      <td>C1004</td>\n",
       "      <td>Retail</td>\n",
       "      <td>Grande</td>\n",
       "      <td>Oruro</td>\n",
       "      <td>0</td>\n",
       "      <td>26</td>\n",
       "      <td>18.4</td>\n",
       "      <td>5</td>\n",
       "      <td>1</td>\n",
       "    </tr>\n",
       "  </tbody>\n",
       "</table>\n",
       "</div>"
      ],
      "text/plain": [
       "  client_id   industry     size      region  support_contract  \\\n",
       "0     C1000   Finanzas  Pequeña       Oruro                 0   \n",
       "1     C1001      Otros  Mediana  Santa Cruz                 1   \n",
       "2     C1002  Educación  Pequeña      La Paz                 1   \n",
       "3     C1003   Gobierno  Mediana       Oruro                 1   \n",
       "4     C1004     Retail   Grande       Oruro                 0   \n",
       "\n",
       "   tickets_opened_last_year  avg_response_time_hours  satisfaction_score  \\\n",
       "0                        21                     33.5                   5   \n",
       "1                        21                     25.8                   3   \n",
       "2                        23                     24.6                   2   \n",
       "3                        16                     17.0                   1   \n",
       "4                        26                     18.4                   5   \n",
       "\n",
       "   renewed_contract  \n",
       "0                 0  \n",
       "1                 1  \n",
       "2                 1  \n",
       "3                 1  \n",
       "4                 1  "
      ]
     },
     "metadata": {},
     "output_type": "display_data"
    },
    {
     "name": "stdout",
     "output_type": "stream",
     "text": [
      "\n",
      "Proyectos:\n"
     ]
    },
    {
     "data": {
      "text/html": [
       "<div>\n",
       "<style scoped>\n",
       "    .dataframe tbody tr th:only-of-type {\n",
       "        vertical-align: middle;\n",
       "    }\n",
       "\n",
       "    .dataframe tbody tr th {\n",
       "        vertical-align: top;\n",
       "    }\n",
       "\n",
       "    .dataframe thead th {\n",
       "        text-align: right;\n",
       "    }\n",
       "</style>\n",
       "<table border=\"1\" class=\"dataframe\">\n",
       "  <thead>\n",
       "    <tr style=\"text-align: right;\">\n",
       "      <th></th>\n",
       "      <th>project_id</th>\n",
       "      <th>client_id</th>\n",
       "      <th>start_date</th>\n",
       "      <th>planned_end_date</th>\n",
       "      <th>actual_end_date</th>\n",
       "      <th>budget_usd</th>\n",
       "      <th>dev_team_size</th>\n",
       "      <th>complexity</th>\n",
       "      <th>status</th>\n",
       "      <th>final_cost_usd</th>\n",
       "    </tr>\n",
       "  </thead>\n",
       "  <tbody>\n",
       "    <tr>\n",
       "      <th>0</th>\n",
       "      <td>P2000</td>\n",
       "      <td>C1050</td>\n",
       "      <td>2024-01-15</td>\n",
       "      <td>2024-04-03</td>\n",
       "      <td>2024-03-27</td>\n",
       "      <td>27811.31</td>\n",
       "      <td>4</td>\n",
       "      <td>Media</td>\n",
       "      <td>On-time</td>\n",
       "      <td>27496.80</td>\n",
       "    </tr>\n",
       "    <tr>\n",
       "      <th>1</th>\n",
       "      <td>P2001</td>\n",
       "      <td>C1057</td>\n",
       "      <td>2023-11-08</td>\n",
       "      <td>2024-04-16</td>\n",
       "      <td>2024-08-07</td>\n",
       "      <td>15455.14</td>\n",
       "      <td>5</td>\n",
       "      <td>Media</td>\n",
       "      <td>Delayed</td>\n",
       "      <td>17813.71</td>\n",
       "    </tr>\n",
       "    <tr>\n",
       "      <th>2</th>\n",
       "      <td>P2002</td>\n",
       "      <td>C1004</td>\n",
       "      <td>2024-10-01</td>\n",
       "      <td>2025-01-31</td>\n",
       "      <td>2025-01-25</td>\n",
       "      <td>26634.78</td>\n",
       "      <td>11</td>\n",
       "      <td>Baja</td>\n",
       "      <td>On-time</td>\n",
       "      <td>27121.70</td>\n",
       "    </tr>\n",
       "    <tr>\n",
       "      <th>3</th>\n",
       "      <td>P2003</td>\n",
       "      <td>C1004</td>\n",
       "      <td>2023-11-01</td>\n",
       "      <td>2023-12-24</td>\n",
       "      <td>2023-12-24</td>\n",
       "      <td>24774.24</td>\n",
       "      <td>10</td>\n",
       "      <td>Media</td>\n",
       "      <td>On-time</td>\n",
       "      <td>26293.34</td>\n",
       "    </tr>\n",
       "    <tr>\n",
       "      <th>4</th>\n",
       "      <td>P2004</td>\n",
       "      <td>C1093</td>\n",
       "      <td>2023-12-04</td>\n",
       "      <td>2024-03-02</td>\n",
       "      <td>2024-03-05</td>\n",
       "      <td>585.06</td>\n",
       "      <td>7</td>\n",
       "      <td>Baja</td>\n",
       "      <td>On-time</td>\n",
       "      <td>582.31</td>\n",
       "    </tr>\n",
       "  </tbody>\n",
       "</table>\n",
       "</div>"
      ],
      "text/plain": [
       "  project_id client_id  start_date planned_end_date actual_end_date  \\\n",
       "0      P2000     C1050  2024-01-15       2024-04-03      2024-03-27   \n",
       "1      P2001     C1057  2023-11-08       2024-04-16      2024-08-07   \n",
       "2      P2002     C1004  2024-10-01       2025-01-31      2025-01-25   \n",
       "3      P2003     C1004  2023-11-01       2023-12-24      2023-12-24   \n",
       "4      P2004     C1093  2023-12-04       2024-03-02      2024-03-05   \n",
       "\n",
       "   budget_usd  dev_team_size complexity   status  final_cost_usd  \n",
       "0    27811.31              4      Media  On-time        27496.80  \n",
       "1    15455.14              5      Media  Delayed        17813.71  \n",
       "2    26634.78             11       Baja  On-time        27121.70  \n",
       "3    24774.24             10      Media  On-time        26293.34  \n",
       "4      585.06              7       Baja  On-time          582.31  "
      ]
     },
     "metadata": {},
     "output_type": "display_data"
    }
   ],
   "source": [
    "# Cargar datasets\n",
    "clients = pd.read_csv('../data/clients.csv')\n",
    "projects = pd.read_csv('../data/projects.csv')\n",
    "\n",
    "print('=== INFORMACIÓN DE DATASETS ===')\n",
    "print(f'Clientes: {clients.shape} - Filas: {clients.shape[0]}, Columnas: {clients.shape[1]}')\n",
    "print(f'Proyectos: {projects.shape} - Filas: {projects.shape[0]}, Columnas: {projects.shape[1]}')\n",
    "\n",
    "print('\\n=== PRIMERAS FILAS ===')\n",
    "print('\\nClientes:')\n",
    "display(clients.head())\n",
    "print('\\nProyectos:')\n",
    "display(projects.head())"
   ]
  },
  {
   "cell_type": "markdown",
   "metadata": {},
   "source": [
    "### 2. Revisión de Calidad de Datos"
   ]
  },
  {
   "cell_type": "code",
   "execution_count": 3,
   "metadata": {},
   "outputs": [
    {
     "name": "stdout",
     "output_type": "stream",
     "text": [
      "=== INFORMACIÓN DE TIPOS DE DATOS ===\n",
      "\n",
      "Clientes:\n",
      "<class 'pandas.core.frame.DataFrame'>\n",
      "RangeIndex: 100 entries, 0 to 99\n",
      "Data columns (total 9 columns):\n",
      " #   Column                    Non-Null Count  Dtype  \n",
      "---  ------                    --------------  -----  \n",
      " 0   client_id                 100 non-null    object \n",
      " 1   industry                  100 non-null    object \n",
      " 2   size                      100 non-null    object \n",
      " 3   region                    100 non-null    object \n",
      " 4   support_contract          100 non-null    int64  \n",
      " 5   tickets_opened_last_year  100 non-null    int64  \n",
      " 6   avg_response_time_hours   100 non-null    float64\n",
      " 7   satisfaction_score        100 non-null    int64  \n",
      " 8   renewed_contract          100 non-null    int64  \n",
      "dtypes: float64(1), int64(4), object(4)\n",
      "memory usage: 7.2+ KB\n",
      "\n",
      "Proyectos:\n",
      "<class 'pandas.core.frame.DataFrame'>\n",
      "RangeIndex: 200 entries, 0 to 199\n",
      "Data columns (total 10 columns):\n",
      " #   Column            Non-Null Count  Dtype  \n",
      "---  ------            --------------  -----  \n",
      " 0   project_id        200 non-null    object \n",
      " 1   client_id         200 non-null    object \n",
      " 2   start_date        200 non-null    object \n",
      " 3   planned_end_date  200 non-null    object \n",
      " 4   actual_end_date   200 non-null    object \n",
      " 5   budget_usd        200 non-null    float64\n",
      " 6   dev_team_size     200 non-null    int64  \n",
      " 7   complexity        200 non-null    object \n",
      " 8   status            200 non-null    object \n",
      " 9   final_cost_usd    200 non-null    float64\n",
      "dtypes: float64(2), int64(1), object(7)\n",
      "memory usage: 15.8+ KB\n",
      "\n",
      "=== VALORES NULOS ===\n",
      "\n",
      "Clientes:\n",
      "client_id                   0\n",
      "industry                    0\n",
      "size                        0\n",
      "region                      0\n",
      "support_contract            0\n",
      "tickets_opened_last_year    0\n",
      "avg_response_time_hours     0\n",
      "satisfaction_score          0\n",
      "renewed_contract            0\n",
      "dtype: int64\n",
      "\n",
      "Proyectos:\n",
      "project_id          0\n",
      "client_id           0\n",
      "start_date          0\n",
      "planned_end_date    0\n",
      "actual_end_date     0\n",
      "budget_usd          0\n",
      "dev_team_size       0\n",
      "complexity          0\n",
      "status              0\n",
      "final_cost_usd      0\n",
      "dtype: int64\n"
     ]
    }
   ],
   "source": [
    "print('=== INFORMACIÓN DE TIPOS DE DATOS ===')\n",
    "print('\\nClientes:')\n",
    "clients.info()\n",
    "print('\\nProyectos:')\n",
    "projects.info()\n",
    "\n",
    "print('\\n=== VALORES NULOS ===')\n",
    "print('\\nClientes:')\n",
    "print(clients.isnull().sum())\n",
    "print('\\nProyectos:')\n",
    "print(projects.isnull().sum())"
   ]
  },
  {
   "cell_type": "markdown",
   "metadata": {},
   "source": [
    "### 3. Conversión de Tipos de Datos"
   ]
  },
  {
   "cell_type": "code",
   "execution_count": 4,
   "metadata": {},
   "outputs": [
    {
     "name": "stdout",
     "output_type": "stream",
     "text": [
      "=== CONVERSIÓN DE FECHAS COMPLETADA ===\n",
      "\n",
      "Tipos de datos en proyectos después de conversión:\n",
      "start_date          datetime64[ns]\n",
      "planned_end_date    datetime64[ns]\n",
      "actual_end_date     datetime64[ns]\n",
      "dtype: object\n"
     ]
    }
   ],
   "source": [
    "# Convertir fechas en proyectos\n",
    "date_columns = ['start_date', 'planned_end_date', 'actual_end_date']\n",
    "for col in date_columns:\n",
    "    projects[col] = pd.to_datetime(projects[col])\n",
    "\n",
    "print('=== CONVERSIÓN DE FECHAS COMPLETADA ===')\n",
    "print('\\nTipos de datos en proyectos después de conversión:')\n",
    "print(projects[date_columns].dtypes)"
   ]
  },
  {
   "cell_type": "markdown",
   "metadata": {},
   "source": [
    "### 4. Validaciones de Consistencia"
   ]
  },
  {
   "cell_type": "code",
   "execution_count": 5,
   "metadata": {},
   "outputs": [
    {
     "name": "stdout",
     "output_type": "stream",
     "text": [
      "Proyectos con fechas inconsistentes: 0\n",
      "\n",
      "=== VALIDACIÓN DE RANGOS ===\n",
      "Satisfaction score range: 1 - 5\n",
      "Budget range: $-98.98 - $38,642.28\n"
     ]
    }
   ],
   "source": [
    "# Validar que las fechas sean consistentes\n",
    "projects['duration_planned'] = (projects['planned_end_date'] - projects['start_date']).dt.days\n",
    "projects['duration_actual'] = (projects['actual_end_date'] - projects['start_date']).dt.days\n",
    "\n",
    "# Identificar proyectos con fechas inconsistentes\n",
    "invalid_dates = projects[projects['duration_actual'] < 0]\n",
    "print(f'Proyectos con fechas inconsistentes: {len(invalid_dates)}')\n",
    "\n",
    "# Validar rangos de valores\n",
    "print('\\n=== VALIDACIÓN DE RANGOS ===')\n",
    "print(f'Satisfaction score range: {clients[\"satisfaction_score\"].min()} - {clients[\"satisfaction_score\"].max()}')\n",
    "print(f'Budget range: ${projects[\"budget_usd\"].min():,.2f} - ${projects[\"budget_usd\"].max():,.2f}')"
   ]
  },
  {
   "cell_type": "markdown",
   "metadata": {},
   "source": [
    "### 5. Guardar Datasets Curados"
   ]
  },
  {
   "cell_type": "code",
   "execution_count": 6,
   "metadata": {},
   "outputs": [
    {
     "name": "stdout",
     "output_type": "stream",
     "text": [
      "✅ Datasets curados guardados correctamente:\n",
      "- ../data/clients_curated.csv\n",
      "- ../data/projects_curated.csv\n"
     ]
    }
   ],
   "source": [
    "# Guardar datasets procesados\n",
    "clients.to_csv('../data/clients_curated.csv', index=False)\n",
    "projects.to_csv('../data/projects_curated.csv', index=False)\n",
    "\n",
    "print('✅ Datasets curados guardados correctamente:')\n",
    "print('- ../data/clients_curated.csv')\n",
    "print('- ../data/projects_curated.csv')"
   ]
  }
 ],
 "metadata": {
  "kernelspec": {
   "display_name": "Python 3 (ipykernel)",
   "language": "python",
   "name": "python3"
  },
  "language_info": {
   "codemirror_mode": {
    "name": "ipython",
    "version": 3
   },
   "file_extension": ".py",
   "mimetype": "text/x-python",
   "name": "python",
   "nbconvert_exporter": "python",
   "pygments_lexer": "ipython3",
   "version": "3.12.3"
  }
 },
 "nbformat": 4,
 "nbformat_minor": 4
}
