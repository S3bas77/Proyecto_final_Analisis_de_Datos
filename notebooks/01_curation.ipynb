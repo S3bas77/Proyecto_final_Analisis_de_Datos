{
 "cells": [
  {
   "cell_type": "markdown",
   "metadata": {},
   "source": [
    "# 01 - Curación y Preparación de Datos\n",
    "## Proyecto Final: Análisis de Datos\n",
    "### Objetivo: Verificar y limpiar la estructura de los datos\n"
   ]
  },
  {
   "cell_type": "code",
   "execution_count": 11,
   "metadata": {},
   "outputs": [
    {
     "name": "stdout",
     "output_type": "stream",
     "text": [
      "Librerías importadas correctamente\n"
     ]
    }
   ],
   "source": [
    "import pandas as pd\n",
    "import numpy as np\n",
    "import os\n",
    "from datetime import datetime\n",
    "\n",
    "print(\"Librerías importadas correctamente\")"
   ]
  },
  {
   "cell_type": "code",
   "execution_count": 12,
   "metadata": {},
   "outputs": [
    {
     "name": "stdout",
     "output_type": "stream",
     "text": [
      "Datos cargados correctamente\n"
     ]
    }
   ],
   "source": [
    "# Cargar datos\n",
    "data_path = \"../data/\"\n",
    "clients = pd.read_csv(os.path.join(data_path, \"clients.csv\"))\n",
    "projects = pd.read_csv(os.path.join(data_path, \"projects.csv\"))\n",
    "\n",
    "print(\"Datos cargados correctamente\")"
   ]
  },
  {
   "cell_type": "code",
   "execution_count": 13,
   "metadata": {},
   "outputs": [
    {
     "name": "stdout",
     "output_type": "stream",
     "text": [
      "=== DATASET CLIENTS ===\n",
      "Dimensiones: (100, 9)\n",
      "\n",
      "Tipos de datos:\n",
      "client_id                    object\n",
      "industry                     object\n",
      "size                         object\n",
      "region                       object\n",
      "support_contract              int64\n",
      "tickets_opened_last_year      int64\n",
      "avg_response_time_hours     float64\n",
      "satisfaction_score            int64\n",
      "renewed_contract              int64\n",
      "dtype: object\n",
      "\n",
      "Primeras filas:\n"
     ]
    },
    {
     "data": {
      "text/html": [
       "<div>\n",
       "<style scoped>\n",
       "    .dataframe tbody tr th:only-of-type {\n",
       "        vertical-align: middle;\n",
       "    }\n",
       "\n",
       "    .dataframe tbody tr th {\n",
       "        vertical-align: top;\n",
       "    }\n",
       "\n",
       "    .dataframe thead th {\n",
       "        text-align: right;\n",
       "    }\n",
       "</style>\n",
       "<table border=\"1\" class=\"dataframe\">\n",
       "  <thead>\n",
       "    <tr style=\"text-align: right;\">\n",
       "      <th></th>\n",
       "      <th>client_id</th>\n",
       "      <th>industry</th>\n",
       "      <th>size</th>\n",
       "      <th>region</th>\n",
       "      <th>support_contract</th>\n",
       "      <th>tickets_opened_last_year</th>\n",
       "      <th>avg_response_time_hours</th>\n",
       "      <th>satisfaction_score</th>\n",
       "      <th>renewed_contract</th>\n",
       "    </tr>\n",
       "  </thead>\n",
       "  <tbody>\n",
       "    <tr>\n",
       "      <th>0</th>\n",
       "      <td>C1000</td>\n",
       "      <td>Finanzas</td>\n",
       "      <td>Pequeña</td>\n",
       "      <td>Oruro</td>\n",
       "      <td>0</td>\n",
       "      <td>21</td>\n",
       "      <td>33.5</td>\n",
       "      <td>5</td>\n",
       "      <td>0</td>\n",
       "    </tr>\n",
       "    <tr>\n",
       "      <th>1</th>\n",
       "      <td>C1001</td>\n",
       "      <td>Otros</td>\n",
       "      <td>Mediana</td>\n",
       "      <td>Santa Cruz</td>\n",
       "      <td>1</td>\n",
       "      <td>21</td>\n",
       "      <td>25.8</td>\n",
       "      <td>3</td>\n",
       "      <td>1</td>\n",
       "    </tr>\n",
       "    <tr>\n",
       "      <th>2</th>\n",
       "      <td>C1002</td>\n",
       "      <td>Educación</td>\n",
       "      <td>Pequeña</td>\n",
       "      <td>La Paz</td>\n",
       "      <td>1</td>\n",
       "      <td>23</td>\n",
       "      <td>24.6</td>\n",
       "      <td>2</td>\n",
       "      <td>1</td>\n",
       "    </tr>\n",
       "    <tr>\n",
       "      <th>3</th>\n",
       "      <td>C1003</td>\n",
       "      <td>Gobierno</td>\n",
       "      <td>Mediana</td>\n",
       "      <td>Oruro</td>\n",
       "      <td>1</td>\n",
       "      <td>16</td>\n",
       "      <td>17.0</td>\n",
       "      <td>1</td>\n",
       "      <td>1</td>\n",
       "    </tr>\n",
       "    <tr>\n",
       "      <th>4</th>\n",
       "      <td>C1004</td>\n",
       "      <td>Retail</td>\n",
       "      <td>Grande</td>\n",
       "      <td>Oruro</td>\n",
       "      <td>0</td>\n",
       "      <td>26</td>\n",
       "      <td>18.4</td>\n",
       "      <td>5</td>\n",
       "      <td>1</td>\n",
       "    </tr>\n",
       "  </tbody>\n",
       "</table>\n",
       "</div>"
      ],
      "text/plain": [
       "  client_id   industry     size      region  support_contract  \\\n",
       "0     C1000   Finanzas  Pequeña       Oruro                 0   \n",
       "1     C1001      Otros  Mediana  Santa Cruz                 1   \n",
       "2     C1002  Educación  Pequeña      La Paz                 1   \n",
       "3     C1003   Gobierno  Mediana       Oruro                 1   \n",
       "4     C1004     Retail   Grande       Oruro                 0   \n",
       "\n",
       "   tickets_opened_last_year  avg_response_time_hours  satisfaction_score  \\\n",
       "0                        21                     33.5                   5   \n",
       "1                        21                     25.8                   3   \n",
       "2                        23                     24.6                   2   \n",
       "3                        16                     17.0                   1   \n",
       "4                        26                     18.4                   5   \n",
       "\n",
       "   renewed_contract  \n",
       "0                 0  \n",
       "1                 1  \n",
       "2                 1  \n",
       "3                 1  \n",
       "4                 1  "
      ]
     },
     "execution_count": 13,
     "metadata": {},
     "output_type": "execute_result"
    }
   ],
   "source": [
    "# Información inicial de clients\n",
    "print(\"=== DATASET CLIENTS ===\")\n",
    "print(f\"Dimensiones: {clients.shape}\")\n",
    "print(\"\\nTipos de datos:\")\n",
    "print(clients.dtypes)\n",
    "print(\"\\nPrimeras filas:\")\n",
    "clients.head()"
   ]
  },
  {
   "cell_type": "code",
   "execution_count": 14,
   "metadata": {},
   "outputs": [
    {
     "name": "stdout",
     "output_type": "stream",
     "text": [
      "\n",
      "=== DATASET PROJECTS ===\n",
      "Dimensiones: (200, 10)\n",
      "\n",
      "Tipos de datos:\n",
      "project_id           object\n",
      "client_id            object\n",
      "start_date           object\n",
      "planned_end_date     object\n",
      "actual_end_date      object\n",
      "budget_usd          float64\n",
      "dev_team_size         int64\n",
      "complexity           object\n",
      "status               object\n",
      "final_cost_usd      float64\n",
      "dtype: object\n",
      "\n",
      "Primeras filas:\n"
     ]
    },
    {
     "data": {
      "text/html": [
       "<div>\n",
       "<style scoped>\n",
       "    .dataframe tbody tr th:only-of-type {\n",
       "        vertical-align: middle;\n",
       "    }\n",
       "\n",
       "    .dataframe tbody tr th {\n",
       "        vertical-align: top;\n",
       "    }\n",
       "\n",
       "    .dataframe thead th {\n",
       "        text-align: right;\n",
       "    }\n",
       "</style>\n",
       "<table border=\"1\" class=\"dataframe\">\n",
       "  <thead>\n",
       "    <tr style=\"text-align: right;\">\n",
       "      <th></th>\n",
       "      <th>project_id</th>\n",
       "      <th>client_id</th>\n",
       "      <th>start_date</th>\n",
       "      <th>planned_end_date</th>\n",
       "      <th>actual_end_date</th>\n",
       "      <th>budget_usd</th>\n",
       "      <th>dev_team_size</th>\n",
       "      <th>complexity</th>\n",
       "      <th>status</th>\n",
       "      <th>final_cost_usd</th>\n",
       "    </tr>\n",
       "  </thead>\n",
       "  <tbody>\n",
       "    <tr>\n",
       "      <th>0</th>\n",
       "      <td>P2000</td>\n",
       "      <td>C1050</td>\n",
       "      <td>2024-01-15</td>\n",
       "      <td>2024-04-03</td>\n",
       "      <td>2024-03-27</td>\n",
       "      <td>27811.31</td>\n",
       "      <td>4</td>\n",
       "      <td>Media</td>\n",
       "      <td>On-time</td>\n",
       "      <td>27496.80</td>\n",
       "    </tr>\n",
       "    <tr>\n",
       "      <th>1</th>\n",
       "      <td>P2001</td>\n",
       "      <td>C1057</td>\n",
       "      <td>2023-11-08</td>\n",
       "      <td>2024-04-16</td>\n",
       "      <td>2024-08-07</td>\n",
       "      <td>15455.14</td>\n",
       "      <td>5</td>\n",
       "      <td>Media</td>\n",
       "      <td>Delayed</td>\n",
       "      <td>17813.71</td>\n",
       "    </tr>\n",
       "    <tr>\n",
       "      <th>2</th>\n",
       "      <td>P2002</td>\n",
       "      <td>C1004</td>\n",
       "      <td>2024-10-01</td>\n",
       "      <td>2025-01-31</td>\n",
       "      <td>2025-01-25</td>\n",
       "      <td>26634.78</td>\n",
       "      <td>11</td>\n",
       "      <td>Baja</td>\n",
       "      <td>On-time</td>\n",
       "      <td>27121.70</td>\n",
       "    </tr>\n",
       "    <tr>\n",
       "      <th>3</th>\n",
       "      <td>P2003</td>\n",
       "      <td>C1004</td>\n",
       "      <td>2023-11-01</td>\n",
       "      <td>2023-12-24</td>\n",
       "      <td>2023-12-24</td>\n",
       "      <td>24774.24</td>\n",
       "      <td>10</td>\n",
       "      <td>Media</td>\n",
       "      <td>On-time</td>\n",
       "      <td>26293.34</td>\n",
       "    </tr>\n",
       "    <tr>\n",
       "      <th>4</th>\n",
       "      <td>P2004</td>\n",
       "      <td>C1093</td>\n",
       "      <td>2023-12-04</td>\n",
       "      <td>2024-03-02</td>\n",
       "      <td>2024-03-05</td>\n",
       "      <td>585.06</td>\n",
       "      <td>7</td>\n",
       "      <td>Baja</td>\n",
       "      <td>On-time</td>\n",
       "      <td>582.31</td>\n",
       "    </tr>\n",
       "  </tbody>\n",
       "</table>\n",
       "</div>"
      ],
      "text/plain": [
       "  project_id client_id  start_date planned_end_date actual_end_date  \\\n",
       "0      P2000     C1050  2024-01-15       2024-04-03      2024-03-27   \n",
       "1      P2001     C1057  2023-11-08       2024-04-16      2024-08-07   \n",
       "2      P2002     C1004  2024-10-01       2025-01-31      2025-01-25   \n",
       "3      P2003     C1004  2023-11-01       2023-12-24      2023-12-24   \n",
       "4      P2004     C1093  2023-12-04       2024-03-02      2024-03-05   \n",
       "\n",
       "   budget_usd  dev_team_size complexity   status  final_cost_usd  \n",
       "0    27811.31              4      Media  On-time        27496.80  \n",
       "1    15455.14              5      Media  Delayed        17813.71  \n",
       "2    26634.78             11       Baja  On-time        27121.70  \n",
       "3    24774.24             10      Media  On-time        26293.34  \n",
       "4      585.06              7       Baja  On-time          582.31  "
      ]
     },
     "execution_count": 14,
     "metadata": {},
     "output_type": "execute_result"
    }
   ],
   "source": [
    "# Información inicial de projects\n",
    "print(\"\\n=== DATASET PROJECTS ===\")\n",
    "print(f\"Dimensiones: {projects.shape}\")\n",
    "print(\"\\nTipos de datos:\")\n",
    "print(projects.dtypes)\n",
    "print(\"\\nPrimeras filas:\")\n",
    "projects.head()"
   ]
  },
  {
   "cell_type": "code",
   "execution_count": 15,
   "metadata": {},
   "outputs": [
    {
     "name": "stdout",
     "output_type": "stream",
     "text": [
      "\n",
      "=== VALORES NULOS ===\n",
      "Clients:\n",
      "client_id                   0\n",
      "industry                    0\n",
      "size                        0\n",
      "region                      0\n",
      "support_contract            0\n",
      "tickets_opened_last_year    0\n",
      "avg_response_time_hours     0\n",
      "satisfaction_score          0\n",
      "renewed_contract            0\n",
      "dtype: int64\n",
      "\n",
      "Projects:\n",
      "project_id          0\n",
      "client_id           0\n",
      "start_date          0\n",
      "planned_end_date    0\n",
      "actual_end_date     0\n",
      "budget_usd          0\n",
      "dev_team_size       0\n",
      "complexity          0\n",
      "status              0\n",
      "final_cost_usd      0\n",
      "dtype: int64\n"
     ]
    }
   ],
   "source": [
    "# Verificar nulos\n",
    "print(\"\\n=== VALORES NULOS ===\")\n",
    "print(\"Clients:\")\n",
    "print(clients.isna().sum())\n",
    "print(\"\\nProjects:\")\n",
    "print(projects.isna().sum())"
   ]
  },
  {
   "cell_type": "code",
   "execution_count": 16,
   "metadata": {},
   "outputs": [
    {
     "name": "stdout",
     "output_type": "stream",
     "text": [
      "Tipos después de conversión:\n",
      "start_date          datetime64[ns]\n",
      "planned_end_date    datetime64[ns]\n",
      "actual_end_date     datetime64[ns]\n",
      "dtype: object\n"
     ]
    }
   ],
   "source": [
    "# Convertir fechas en projects\n",
    "date_cols = ['start_date', 'planned_end_date', 'actual_end_date']\n",
    "for col in date_cols:\n",
    "    projects[col] = pd.to_datetime(projects[col])\n",
    "\n",
    "# Verificar conversión\n",
    "print(\"Tipos después de conversión:\")\n",
    "print(projects[date_cols].dtypes)"
   ]
  },
  {
   "cell_type": "code",
   "execution_count": 17,
   "metadata": {},
   "outputs": [
    {
     "name": "stdout",
     "output_type": "stream",
     "text": [
      "Proyectos con fechas inconsistentes: 0\n"
     ]
    }
   ],
   "source": [
    "# Verificar coherencia de fechas\n",
    "projects['duration_planned'] = (projects['planned_end_date'] - projects['start_date']).dt.days\n",
    "projects['duration_actual'] = (projects['actual_end_date'] - projects['start_date']).dt.days\n",
    "\n",
    "# Identificar inconsistencias\n",
    "inconsistent_dates = projects[projects['duration_actual'] < 0]\n",
    "print(f\"Proyectos con fechas inconsistentes: {len(inconsistent_dates)}\")\n",
    "\n",
    "if len(inconsistent_dates) > 0:\n",
    "    print(\"Proyectos inconsistentes:\")\n",
    "    inconsistent_dates[['project_id', 'start_date', 'actual_end_date', 'duration_actual']]"
   ]
  },
  {
   "cell_type": "code",
   "execution_count": 18,
   "metadata": {},
   "outputs": [
    {
     "name": "stdout",
     "output_type": "stream",
     "text": [
      "=== VALORES ÚNICOS ===\n",
      "Clients - Industry: ['Finanzas' 'Otros' 'Educación' 'Gobierno' 'Retail' 'Salud']\n",
      "Clients - Size: ['Pequeña' 'Mediana' 'Grande']\n",
      "Projects - Complexity: ['Media' 'Baja' 'Alta']\n",
      "Projects - Status: ['On-time' 'Delayed']\n"
     ]
    }
   ],
   "source": [
    "# Verificar valores únicos en columnas categóricas\n",
    "print(\"=== VALORES ÚNICOS ===\")\n",
    "print(\"Clients - Industry:\", clients['industry'].unique())\n",
    "print(\"Clients - Size:\", clients['size'].unique())\n",
    "print(\"Projects - Complexity:\", projects['complexity'].unique())\n",
    "print(\"Projects - Status:\", projects['status'].unique())"
   ]
  },
  {
   "cell_type": "code",
   "execution_count": 19,
   "metadata": {},
   "outputs": [
    {
     "name": "stdout",
     "output_type": "stream",
     "text": [
      "Clientes duplicados: 0\n",
      "Proyectos duplicados: 0\n",
      "Duplicados eliminados (si existían)\n"
     ]
    }
   ],
   "source": [
    "# Limpieza adicional: eliminar duplicados\n",
    "print(f\"Clientes duplicados: {clients.duplicated().sum()}\")\n",
    "print(f\"Proyectos duplicados: {projects.duplicated().sum()}\")\n",
    "\n",
    "# Eliminar duplicados si existen\n",
    "clients = clients.drop_duplicates()\n",
    "projects = projects.drop_duplicates()\n",
    "print(\"Duplicados eliminados (si existían)\")"
   ]
  },
  {
   "cell_type": "code",
   "execution_count": 20,
   "metadata": {},
   "outputs": [
    {
     "name": "stdout",
     "output_type": "stream",
     "text": [
      "Curación completada y datasets guardados\n",
      "Clientes: 100 registros\n",
      "Proyectos: 200 registros\n"
     ]
    }
   ],
   "source": [
    "# Guardar datasets curados\n",
    "clients_curated = clients.copy()\n",
    "projects_curated = projects.copy()\n",
    "\n",
    "clients_curated.to_csv(os.path.join(data_path, \"clients_curated.csv\"), index=False)\n",
    "projects_curated.to_csv(os.path.join(data_path, \"projects_curated.csv\"), index=False)\n",
    "\n",
    "print(\"Curación completada y datasets guardados\")\n",
    "print(f\"Clientes: {len(clients_curated)} registros\")\n",
    "print(f\"Proyectos: {len(projects_curated)} registros\")"
   ]
  }
 ],
 "metadata": {
  "kernelspec": {
   "display_name": "venv (3.12.3)",
   "language": "python",
   "name": "python3"
  },
  "language_info": {
   "codemirror_mode": {
    "name": "ipython",
    "version": 3
   },
   "file_extension": ".py",
   "mimetype": "text/x-python",
   "name": "python",
   "nbconvert_exporter": "python",
   "pygments_lexer": "ipython3",
   "version": "3.12.3"
  }
 },
 "nbformat": 4,
 "nbformat_minor": 4
}
